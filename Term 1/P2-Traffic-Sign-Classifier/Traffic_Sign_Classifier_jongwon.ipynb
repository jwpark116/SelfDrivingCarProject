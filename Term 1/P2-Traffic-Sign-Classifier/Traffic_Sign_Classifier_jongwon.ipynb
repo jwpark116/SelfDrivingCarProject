{
 "cells": [
  {
   "cell_type": "markdown",
   "metadata": {},
   "source": [
    "# Self-Driving Car Engineer Nanodegree\n",
    "\n",
    "## Deep Learning\n",
    "\n",
    "## Project: Build a Traffic Sign Recognition Classifier\n",
    "\n",
    "In this notebook, a template is provided for you to implement your functionality in stages, which is required to successfully complete this project. If additional code is required that cannot be included in the notebook, be sure that the Python code is successfully imported and included in your submission if necessary. \n",
    "\n",
    "> **Note**: Once you have completed all of the code implementations, you need to finalize your work by exporting the iPython Notebook as an HTML document. Before exporting the notebook to html, all of the code cells need to have been run so that reviewers can see the final implementation and output. You can then export the notebook by using the menu above and navigating to  \\n\",\n",
    "    \"**File -> Download as -> HTML (.html)**. Include the finished document along with this notebook as your submission. \n",
    "\n",
    "In addition to implementing code, there is a writeup to complete. The writeup should be completed in a separate file, which can be either a markdown file or a pdf document. There is a [write up template](https://github.com/udacity/CarND-Traffic-Sign-Classifier-Project/blob/master/writeup_template.md) that can be used to guide the writing process. Completing the code template and writeup template will cover all of the [rubric points](https://review.udacity.com/#!/rubrics/481/view) for this project.\n",
    "\n",
    "The [rubric](https://review.udacity.com/#!/rubrics/481/view) contains \"Stand Out Suggestions\" for enhancing the project beyond the minimum requirements. The stand out suggestions are optional. If you decide to pursue the \"stand out suggestions\", you can include the code in this Ipython notebook and also discuss the results in the writeup file.\n",
    "\n",
    "\n",
    ">**Note:** Code and Markdown cells can be executed using the **Shift + Enter** keyboard shortcut. In addition, Markdown cells can be edited by typically double-clicking the cell to enter edit mode."
   ]
  },
  {
   "cell_type": "markdown",
   "metadata": {},
   "source": [
    "---\n",
    "## Step 0: Load The Data"
   ]
  },
  {
   "cell_type": "code",
   "execution_count": 1,
   "metadata": {
    "collapsed": false
   },
   "outputs": [
    {
     "name": "stdout",
     "output_type": "stream",
     "text": [
      "(34799, 32, 32, 3) <class 'numpy.ndarray'>\n",
      "(4410, 32, 32, 3)\n",
      "(12630, 32, 32, 3)\n"
     ]
    }
   ],
   "source": [
    "# Load pickled data\n",
    "import pickle\n",
    "\n",
    "# TODO: Fill this in based on where you saved the training and testing data\n",
    "\n",
    "training_file =  \"traffic-signs-data/train.p\"\n",
    "validation_file= \"traffic-signs-data/valid.p\"\n",
    "testing_file =   \"traffic-signs-data/test.p\"\n",
    "\n",
    "with open(training_file, mode='rb') as f:\n",
    "    train = pickle.load(f)\n",
    "with open(validation_file, mode='rb') as f:\n",
    "    valid = pickle.load(f)\n",
    "with open(testing_file, mode='rb') as f:\n",
    "    test = pickle.load(f)\n",
    "    \n",
    "X_train, y_train = train['features'], train['labels']\n",
    "X_valid, y_valid = valid['features'], valid['labels']\n",
    "X_test, y_test = test['features'], test['labels']\n",
    "\n",
    "print(X_train.shape, type(X_train))\n",
    "print(X_valid.shape)\n",
    "print(X_test.shape)"
   ]
  },
  {
   "cell_type": "markdown",
   "metadata": {},
   "source": [
    "---\n",
    "\n",
    "## Step 1: Dataset Summary & Exploration\n",
    "\n",
    "The pickled data is a dictionary with 4 key/value pairs:\n",
    "\n",
    "- `'features'` is a 4D array containing raw pixel data of the traffic sign images, (num examples, width, height, channels).\n",
    "- `'labels'` is a 1D array containing the label/class id of the traffic sign. The file `signnames.csv` contains id -> name mappings for each id.\n",
    "- `'sizes'` is a list containing tuples, (width, height) representing the original width and height the image.\n",
    "- `'coords'` is a list containing tuples, (x1, y1, x2, y2) representing coordinates of a bounding box around the sign in the image. **THESE COORDINATES ASSUME THE ORIGINAL IMAGE. THE PICKLED DATA CONTAINS RESIZED VERSIONS (32 by 32) OF THESE IMAGES**\n",
    "\n",
    "Complete the basic data summary below. Use python, numpy and/or pandas methods to calculate the data summary rather than hard coding the results. For example, the [pandas shape method](http://pandas.pydata.org/pandas-docs/stable/generated/pandas.DataFrame.shape.html) might be useful for calculating some of the summary results. "
   ]
  },
  {
   "cell_type": "markdown",
   "metadata": {},
   "source": [
    "### Provide a Basic Summary of the Data Set Using Python, Numpy and/or Pandas"
   ]
  },
  {
   "cell_type": "code",
   "execution_count": 2,
   "metadata": {
    "collapsed": false
   },
   "outputs": [
    {
     "name": "stdout",
     "output_type": "stream",
     "text": [
      "Number of training examples = 34799\n",
      "Number of testing examples = 12630\n",
      "Image data shape = (32, 32, 3)\n",
      "Number of classes = 43\n"
     ]
    }
   ],
   "source": [
    "### Replace each question mark with the appropriate value. \n",
    "### Use python, pandas or numpy methods rather than hard coding the results\n",
    "\n",
    "import numpy as np\n",
    "\n",
    "# TODO: Number of training examples\n",
    "n_train = y_train.shape[0]\n",
    "\n",
    "# TODO: Number of validation examples\n",
    "n_validation = y_valid.shape[0]\n",
    "\n",
    "# TODO: Number of testing examples.\n",
    "n_test = y_test.shape[0]\n",
    "\n",
    "# TODO: What's the shape of an traffic sign image?\n",
    "image_shape = X_train.shape[1:]\n",
    "\n",
    "# TODO: How many unique classes/labels there are in the dataset.\n",
    "n_classes = np.max(y_train)+1\n",
    "\n",
    "print(\"Number of training examples =\", n_train)\n",
    "print(\"Number of testing examples =\", n_test)\n",
    "print(\"Image data shape =\", image_shape)\n",
    "print(\"Number of classes =\", n_classes)"
   ]
  },
  {
   "cell_type": "markdown",
   "metadata": {},
   "source": [
    "### Include an exploratory visualization of the dataset"
   ]
  },
  {
   "cell_type": "markdown",
   "metadata": {},
   "source": [
    "Visualize the German Traffic Signs Dataset using the pickled file(s). This is open ended, suggestions include: plotting traffic sign images, plotting the count of each sign, etc. \n",
    "\n",
    "The [Matplotlib](http://matplotlib.org/) [examples](http://matplotlib.org/examples/index.html) and [gallery](http://matplotlib.org/gallery.html) pages are a great resource for doing visualizations in Python.\n",
    "\n",
    "**NOTE:** It's recommended you start with something simple first. If you wish to do more, come back to it after you've completed the rest of the sections. It can be interesting to look at the distribution of classes in the training, validation and test set. Is the distribution the same? Are there more examples of some classes than others?"
   ]
  },
  {
   "cell_type": "code",
   "execution_count": 3,
   "metadata": {
    "collapsed": false
   },
   "outputs": [
    {
     "data": {
      "image/png": "[encoded data removed]",
      "text/plain": [
       "<matplotlib.figure.Figure at 0x282dded2160>"
      ]
     },
     "metadata": {},
     "output_type": "display_data"
    },
    {
     "data": {
      "image/png": "[encoded data removed]",
      "text/plain": [
       "<matplotlib.figure.Figure at 0x282e12c5b38>"
      ]
     },
     "metadata": {},
     "output_type": "display_data"
    },
    {
     "data": {
      "image/png": "[encoded data removed]",
      "text/plain": [
       "<matplotlib.figure.Figure at 0x282e15c4e10>"
      ]
     },
     "metadata": {},
     "output_type": "display_data"
    }
   ],
   "source": [
    "### Data exploration visualization code goes here.\n",
    "### Feel free to use as many code cells as needed.\n",
    "import matplotlib.pyplot as plt\n",
    "import matplotlib.gridspec as gridspec\n",
    "import random\n",
    "from tensorflow.contrib.layers import flatten\n",
    "from sklearn.utils import shuffle\n",
    "# Visualizations will be shown in the notebook.\n",
    "%matplotlib inline\n",
    "\n",
    "# for i in range(n_classes):\n",
    "#     for j in range(n_train):\n",
    "#         if y_train[j] == i:\n",
    "#             plt.figure(i)\n",
    "#             plt.imshow(X_train[j])\n",
    "#             plt.title('Label: ' + str(i))\n",
    "#             break\n",
    "\n",
    "# histogram of label frequency\n",
    "hist, bins = np.histogram(y_train, bins=n_classes)\n",
    "width = 0.7 * (bins[1] - bins[0])\n",
    "center = (bins[:-1] + bins[1:]) / 2\n",
    "plt.bar(center, hist, align='center', width=width)\n",
    "plt.xlabel('label')\n",
    "plt.ylabel('Number of data')\n",
    "plt.show()\n",
    "\n",
    "# show image of 10 random data points\n",
    "fig, axs = plt.subplots(2,5, figsize=(15, 6))\n",
    "fig.subplots_adjust(hspace = .2, wspace=.001)\n",
    "axs = axs.ravel()\n",
    "for i in range(10):\n",
    "    index = random.randint(0, len(X_train))\n",
    "    image = X_train[index]\n",
    "    axs[i].axis('off')\n",
    "    axs[i].imshow(image)\n",
    "    axs[i].set_title(y_train[index])\n",
    "\n",
    "def rgb2gray(rgb):\n",
    "    return np.dot(rgb[...,:3], [0.33, 0.33, 0.33])\n",
    "\n",
    "fig, axs = plt.subplots(2,5, figsize=(15, 6))\n",
    "fig.subplots_adjust(hspace = .2, wspace=.001)\n",
    "axs = axs.ravel()\n",
    "for i in range(10):\n",
    "    index = random.randint(0, len(X_train))\n",
    "    image = X_train[index]\n",
    "    gry = rgb2gray(image)    \n",
    "    axs[i].axis('off')\n",
    "    axs[i].imshow(gry, cmap = plt.get_cmap('gray'))\n",
    "    axs[i].set_title(y_train[index])"
   ]
  },
  {
   "cell_type": "code",
   "execution_count": null,
   "metadata": {
    "collapsed": true
   },
   "outputs": [],
   "source": []
  },
  {
   "cell_type": "markdown",
   "metadata": {},
   "source": [
    "----\n",
    "\n",
    "## Step 2: Design and Test a Model Architecture\n",
    "\n",
    "Design and implement a deep learning model that learns to recognize traffic signs. Train and test your model on the [German Traffic Sign Dataset](http://benchmark.ini.rub.de/?section=gtsrb&subsection=dataset).\n",
    "\n",
    "The LeNet-5 implementation shown in the [classroom](https://classroom.udacity.com/nanodegrees/nd013/parts/fbf77062-5703-404e-b60c-95b78b2f3f9e/modules/6df7ae49-c61c-4bb2-a23e-6527e69209ec/lessons/601ae704-1035-4287-8b11-e2c2716217ad/concepts/d4aca031-508f-4e0b-b493-e7b706120f81) at the end of the CNN lesson is a solid starting point. You'll have to change the number of classes and possibly the preprocessing, but aside from that it's plug and play! \n",
    "\n",
    "With the LeNet-5 solution from the lecture, you should expect a validation set accuracy of about 0.89. To meet specifications, the validation set accuracy will need to be at least 0.93. It is possible to get an even higher accuracy, but 0.93 is the minimum for a successful project submission. \n",
    "\n",
    "There are various aspects to consider when thinking about this problem:\n",
    "\n",
    "- Neural network architecture (is the network over or underfitting?)\n",
    "- Play around preprocessing techniques (normalization, rgb to grayscale, etc)\n",
    "- Number of examples per label (some have more than others).\n",
    "- Generate fake data.\n",
    "\n",
    "Here is an example of a [published baseline model on this problem](http://yann.lecun.com/exdb/publis/pdf/sermanet-ijcnn-11.pdf). It's not required to be familiar with the approach used in the paper but, it's good practice to try to read papers like these."
   ]
  },
  {
   "cell_type": "markdown",
   "metadata": {},
   "source": [
    "### Pre-process the Data Set (normalization, grayscale, etc.)"
   ]
  },
  {
   "cell_type": "markdown",
   "metadata": {},
   "source": [
    "Minimally, the image data should be normalized so that the data has mean zero and equal variance. For image data, `(pixel - 128)/ 128` is a quick way to approximately normalize the data and can be used in this project. \n",
    "\n",
    "Other pre-processing steps are optional. You can try different techniques to see if it improves performance. \n",
    "\n",
    "Use the code cell (or multiple code cells, if necessary) to implement the first step of your project."
   ]
  },
  {
   "cell_type": "code",
   "execution_count": 5,
   "metadata": {
    "collapsed": false
   },
   "outputs": [],
   "source": [
    "### Preprocess the data here. It is required to normalize the data. Other preprocessing steps could include \n",
    "### converting to grayscale, etc.\n",
    "### Feel free to use as many code cells as needed.\n",
    "import tensorflow as tf\n",
    "\n",
    "\n",
    "X_train = X_train/128.0 - 1.0\n",
    "X_valid = X_valid/128.0 - 1.0\n",
    "X_test = X_test/128.0 - 1.0\n",
    "\n",
    "X_train_gry = np.sum(X_train/3, axis=3, keepdims=True)\n",
    "X_valid_gry = np.sum(X_valid/3, axis=3, keepdims=True)\n",
    "X_test_gry = np.sum(X_test/3, axis=3, keepdims=True)\n",
    "\n",
    "X_train = X_train_gry\n",
    "X_valid = X_valid_gry\n",
    "X_test = X_test_gry\n",
    "\n",
    "# y_one_hot = np.zeros([y_train.shape[0],n_classes])\n",
    "# for i in range(y_train.shape[0]):\n",
    "#     y_one_hot[i,y_train[i]] = 1\n",
    "\n",
    "def evaluate(X_data, y_data):\n",
    "    num_examples = X_data.shape[0]\n",
    "    total_accuracy = 0\n",
    "    sess = tf.get_default_session()\n",
    "    for offset in range(0, num_examples, BATCH_SIZE):\n",
    "        batch_x, batch_y = X_data[offset:offset+BATCH_SIZE,:,:,:], y_data[offset:offset+BATCH_SIZE]\n",
    "        accuracy_cal = sess.run(accuracy_operation, feed_dict={x: batch_x, y: batch_y, keep_prob: 1.0})\n",
    "        total_accuracy += (accuracy_cal * batch_x.shape[0])\n",
    "    return total_accuracy / num_examples\n"
   ]
  },
  {
   "cell_type": "markdown",
   "metadata": {},
   "source": [
    "### Model Architecture"
   ]
  },
  {
   "cell_type": "code",
   "execution_count": 6,
   "metadata": {
    "collapsed": false
   },
   "outputs": [
    {
     "name": "stdout",
     "output_type": "stream",
     "text": [
      "(?, 16, 16, 8)\n",
      "(?, 8, 8, 16)\n",
      "(?, 8, 8, 16)\n",
      "(?, 1024) (?, 1024)\n",
      "Neural Network input shape = (?, 2048)\n",
      "2048\n",
      "(?, 43)\n"
     ]
    }
   ],
   "source": [
    "### Define your architecture here.\n",
    "### Feel free to use as many code cells as needed.\n",
    "\n",
    "# def weight_variable(name, shape_in):\n",
    "#     return tf.get_variable(name,shape=shape_in, initializer=tf.contrib.layers.xavier_initializer())\n",
    "\n",
    "# def bias_variable(name, shape_in):\n",
    "#     return tf.get_variable(name,shape=shape_in, initializer=tf.contrib.layers.xavier_initializer())\n",
    "\n",
    "def weight_variable(name, shape):\n",
    "    initial = tf.truncated_normal(shape, stddev=0.1)\n",
    "    return tf.Variable(initial)\n",
    "\n",
    "def bias_variable(name, shape):\n",
    "    initial = tf.constant(0.1, shape = shape)\n",
    "    return tf.Variable(initial)\n",
    "\n",
    "def conv2d(x, W):\n",
    "    return tf.nn.conv2d(x, W, strides=[1, 1, 1, 1], padding='SAME')\n",
    "\n",
    "def max_pool_2x2(x):\n",
    "    return tf.nn.max_pool(x, ksize=[1, 2, 2, 1], strides=[1, 2, 2, 1], padding='SAME')\n",
    "\n",
    "x = tf.placeholder(tf.float32, [None, 32 , 32 , 1])\n",
    "y = tf.placeholder(tf.int32, [None])\n",
    "one_hot_y = tf.one_hot(y, n_classes)\n",
    "keep_prob = tf.placeholder(\"float\")\n",
    "\n",
    "n_conv1 = 8\n",
    "n_conv21 = 16\n",
    "n_conv22 = 16\n",
    "n_fc1 = 128\n",
    "n_fc2 = 64\n",
    "\n",
    "W_conv1 = weight_variable('W_conv1', [5,5,1,n_conv1])\n",
    "b_conv1 = bias_variable('b_conv1', [n_conv1])\n",
    "h_conv1 = tf.nn.relu(conv2d(x, W_conv1) + b_conv1)\n",
    "h_pool1 = max_pool_2x2(h_conv1)\n",
    "# h_conv1_drop = tf.nn.dropout(h_pool1, keep_prob)\n",
    "print(h_pool1.get_shape())\n",
    "\n",
    "W_conv21 = weight_variable('W_conv21', [5,5,n_conv1,n_conv21])\n",
    "b_conv21 = bias_variable('b_conv21', [n_conv21])\n",
    "h_conv21 = tf.nn.relu(conv2d(h_pool1, W_conv21) + b_conv21)\n",
    "h_pool21 = max_pool_2x2(h_conv21)\n",
    "# h_conv2_drop = tf.nn.dropout(h_pool2, keep_prob)\n",
    "print(h_pool21.get_shape())\n",
    "\n",
    "W_conv22 = weight_variable('W_conv22', [3,3,n_conv1,n_conv22])\n",
    "b_conv22 = bias_variable('b_conv22', [n_conv22])\n",
    "h_conv22 = tf.nn.relu(conv2d(h_pool1, W_conv22) + b_conv22)\n",
    "h_pool22 = max_pool_2x2(h_conv22)\n",
    "print(h_pool22.get_shape())\n",
    "\n",
    "h_conv_flat21 = flatten(h_pool21)\n",
    "h_conv_flat22 = flatten(h_pool22)\n",
    "print(h_conv_flat21.get_shape(),h_conv_flat22.get_shape())\n",
    "\n",
    "h_conv_concat = tf.concat([h_conv_flat21, h_conv_flat22], 1)\n",
    "h_conv_concat_size = h_conv_concat.get_shape()\n",
    "print('Neural Network input shape = ' + str(h_conv_concat.get_shape()))\n",
    "print(h_conv_concat_size[1])\n",
    "\n",
    "h_conv_concat_drop = tf.nn.dropout(h_conv_concat, keep_prob)\n",
    "\n",
    "W_fc1 = weight_variable('W_fc1', [int(h_conv_concat_size[1]), n_fc1])\n",
    "b_fc1 = bias_variable('b_fc1', [n_fc1])\n",
    "h_fc1 = tf.nn.relu(tf.matmul(h_conv_concat_drop, W_fc1) + b_fc1)\n",
    "# h_fc1_drop = tf.nn.dropout(h_fc1, keep_prob)\n",
    "\n",
    "W_fc2 = weight_variable('W_fc2', [n_fc1, n_fc2])\n",
    "b_fc2 = bias_variable('b_fc2', [n_fc2])\n",
    "h_fc2 = tf.nn.relu(tf.matmul(h_fc1, W_fc2) + b_fc2)\n",
    "# h_fc2_drop = tf.nn.dropout(h_fc2, keep_prob)\n",
    "\n",
    "W_sm = weight_variable('W_sm', [n_fc2, n_classes])\n",
    "b_sm = bias_variable('b_sm', [n_classes])\n",
    "\n",
    "# y_conv = tf.nn.softmax(tf.matmul(h_fc2, W_sm) + b_sm)\n",
    "y_conv = tf.matmul(h_fc2, W_sm) + b_sm\n",
    "print(y_conv.get_shape()) \n",
    "\n",
    "cross_entropy = tf.reduce_mean(tf.nn.softmax_cross_entropy_with_logits(logits=y_conv, labels=one_hot_y))\n",
    "train_step = tf.train.AdamOptimizer(learning_rate = 0.001).minimize(cross_entropy)\n",
    "correct_prediction = tf.equal(tf.argmax(y_conv, 1), tf.argmax(one_hot_y, 1))\n",
    "accuracy_operation = tf.reduce_mean(tf.cast(correct_prediction, tf.float32))"
   ]
  },
  {
   "cell_type": "markdown",
   "metadata": {},
   "source": [
    "### Train, Validate and Test the Model"
   ]
  },
  {
   "cell_type": "markdown",
   "metadata": {},
   "source": [
    "A validation set can be used to assess how well the model is performing. A low accuracy on the training and validation\n",
    "sets imply underfitting. A high accuracy on the training set but low accuracy on the validation set implies overfitting."
   ]
  },
  {
   "cell_type": "code",
   "execution_count": 10,
   "metadata": {
    "collapsed": false
   },
   "outputs": [
    {
     "name": "stdout",
     "output_type": "stream",
     "text": [
      "Training...\n",
      "\n",
      "epoch  1/99, cost= 3.34233, Training accuracy= 0.109, Validation accuracy = 0.085\n",
      "epoch  2/99, cost= 3.04947, Training accuracy= 0.229, Validation accuracy = 0.149\n",
      "epoch  3/99, cost= 2.48368, Training accuracy= 0.371, Validation accuracy = 0.277\n",
      "epoch  4/99, cost= 1.86771, Training accuracy= 0.483, Validation accuracy = 0.401\n",
      "epoch  5/99, cost= 1.38032, Training accuracy= 0.623, Validation accuracy = 0.535\n",
      "epoch  6/99, cost= 0.99764, Training accuracy= 0.732, Validation accuracy = 0.628\n",
      "epoch  7/99, cost= 0.83051, Training accuracy= 0.775, Validation accuracy = 0.681\n",
      "epoch  8/99, cost= 0.65707, Training accuracy= 0.828, Validation accuracy = 0.727\n",
      "epoch  9/99, cost= 0.53770, Training accuracy= 0.875, Validation accuracy = 0.765\n",
      "epoch 10/99, cost= 0.46893, Training accuracy= 0.884, Validation accuracy = 0.790\n",
      "epoch 11/99, cost= 0.44471, Training accuracy= 0.896, Validation accuracy = 0.796\n",
      "epoch 12/99, cost= 0.33338, Training accuracy= 0.922, Validation accuracy = 0.817\n",
      "epoch 13/99, cost= 0.34015, Training accuracy= 0.923, Validation accuracy = 0.823\n",
      "epoch 14/99, cost= 0.27242, Training accuracy= 0.938, Validation accuracy = 0.842\n",
      "epoch 15/99, cost= 0.27069, Training accuracy= 0.939, Validation accuracy = 0.849\n",
      "epoch 16/99, cost= 0.21697, Training accuracy= 0.956, Validation accuracy = 0.859\n",
      "epoch 17/99, cost= 0.18487, Training accuracy= 0.969, Validation accuracy = 0.858\n",
      "epoch 18/99, cost= 0.20066, Training accuracy= 0.959, Validation accuracy = 0.860\n",
      "epoch 19/99, cost= 0.16563, Training accuracy= 0.966, Validation accuracy = 0.871\n",
      "epoch 20/99, cost= 0.14756, Training accuracy= 0.970, Validation accuracy = 0.881\n",
      "epoch 21/99, cost= 0.13158, Training accuracy= 0.979, Validation accuracy = 0.874\n",
      "epoch 22/99, cost= 0.13558, Training accuracy= 0.974, Validation accuracy = 0.882\n",
      "epoch 23/99, cost= 0.12492, Training accuracy= 0.975, Validation accuracy = 0.883\n",
      "epoch 24/99, cost= 0.11419, Training accuracy= 0.975, Validation accuracy = 0.886\n",
      "epoch 25/99, cost= 0.11302, Training accuracy= 0.976, Validation accuracy = 0.882\n",
      "epoch 26/99, cost= 0.10267, Training accuracy= 0.981, Validation accuracy = 0.892\n",
      "epoch 27/99, cost= 0.08615, Training accuracy= 0.981, Validation accuracy = 0.889\n",
      "epoch 28/99, cost= 0.08206, Training accuracy= 0.988, Validation accuracy = 0.896\n",
      "epoch 29/99, cost= 0.08618, Training accuracy= 0.987, Validation accuracy = 0.894\n",
      "epoch 30/99, cost= 0.08484, Training accuracy= 0.983, Validation accuracy = 0.893\n",
      "epoch 31/99, cost= 0.08748, Training accuracy= 0.985, Validation accuracy = 0.899\n",
      "epoch 32/99, cost= 0.08085, Training accuracy= 0.987, Validation accuracy = 0.899\n",
      "epoch 33/99, cost= 0.06313, Training accuracy= 0.990, Validation accuracy = 0.901\n",
      "epoch 34/99, cost= 0.06361, Training accuracy= 0.990, Validation accuracy = 0.901\n",
      "epoch 35/99, cost= 0.05090, Training accuracy= 0.992, Validation accuracy = 0.900\n",
      "epoch 36/99, cost= 0.04933, Training accuracy= 0.995, Validation accuracy = 0.905\n",
      "epoch 37/99, cost= 0.04655, Training accuracy= 0.991, Validation accuracy = 0.906\n",
      "epoch 38/99, cost= 0.05716, Training accuracy= 0.988, Validation accuracy = 0.910\n",
      "epoch 39/99, cost= 0.05237, Training accuracy= 0.990, Validation accuracy = 0.911\n",
      "epoch 40/99, cost= 0.04641, Training accuracy= 0.991, Validation accuracy = 0.910\n",
      "epoch 41/99, cost= 0.04178, Training accuracy= 0.993, Validation accuracy = 0.901\n",
      "epoch 42/99, cost= 0.05034, Training accuracy= 0.991, Validation accuracy = 0.908\n",
      "epoch 43/99, cost= 0.03976, Training accuracy= 0.992, Validation accuracy = 0.909\n",
      "epoch 44/99, cost= 0.03657, Training accuracy= 0.994, Validation accuracy = 0.915\n",
      "epoch 45/99, cost= 0.04041, Training accuracy= 0.991, Validation accuracy = 0.907\n",
      "epoch 46/99, cost= 0.03121, Training accuracy= 0.994, Validation accuracy = 0.910\n",
      "epoch 47/99, cost= 0.02908, Training accuracy= 0.997, Validation accuracy = 0.914\n",
      "epoch 48/99, cost= 0.02726, Training accuracy= 0.994, Validation accuracy = 0.907\n",
      "epoch 49/99, cost= 0.02203, Training accuracy= 0.996, Validation accuracy = 0.904\n",
      "epoch 50/99, cost= 0.03200, Training accuracy= 0.996, Validation accuracy = 0.909\n",
      "epoch 51/99, cost= 0.02577, Training accuracy= 0.995, Validation accuracy = 0.916\n",
      "epoch 52/99, cost= 0.02518, Training accuracy= 0.996, Validation accuracy = 0.916\n",
      "epoch 53/99, cost= 0.02739, Training accuracy= 0.996, Validation accuracy = 0.911\n",
      "epoch 54/99, cost= 0.02991, Training accuracy= 0.994, Validation accuracy = 0.912\n",
      "epoch 55/99, cost= 0.01931, Training accuracy= 0.997, Validation accuracy = 0.916\n",
      "epoch 56/99, cost= 0.01884, Training accuracy= 0.996, Validation accuracy = 0.909\n",
      "epoch 57/99, cost= 0.02794, Training accuracy= 0.997, Validation accuracy = 0.915\n",
      "epoch 58/99, cost= 0.02710, Training accuracy= 0.996, Validation accuracy = 0.923\n",
      "epoch 59/99, cost= 0.02117, Training accuracy= 0.996, Validation accuracy = 0.908\n",
      "epoch 60/99, cost= 0.01825, Training accuracy= 0.998, Validation accuracy = 0.921\n",
      "epoch 61/99, cost= 0.01958, Training accuracy= 0.998, Validation accuracy = 0.916\n",
      "epoch 62/99, cost= 0.01437, Training accuracy= 0.999, Validation accuracy = 0.916\n",
      "epoch 63/99, cost= 0.02615, Training accuracy= 0.995, Validation accuracy = 0.918\n",
      "epoch 64/99, cost= 0.01462, Training accuracy= 0.998, Validation accuracy = 0.915\n",
      "epoch 65/99, cost= 0.01199, Training accuracy= 0.999, Validation accuracy = 0.920\n",
      "epoch 66/99, cost= 0.02637, Training accuracy= 0.998, Validation accuracy = 0.919\n",
      "epoch 67/99, cost= 0.01330, Training accuracy= 0.999, Validation accuracy = 0.914\n",
      "epoch 68/99, cost= 0.01508, Training accuracy= 0.997, Validation accuracy = 0.920\n",
      "epoch 69/99, cost= 0.01474, Training accuracy= 0.998, Validation accuracy = 0.922\n",
      "epoch 70/99, cost= 0.01724, Training accuracy= 0.996, Validation accuracy = 0.928\n",
      "epoch 71/99, cost= 0.01519, Training accuracy= 0.998, Validation accuracy = 0.917\n",
      "epoch 72/99, cost= 0.01780, Training accuracy= 0.999, Validation accuracy = 0.917\n",
      "epoch 73/99, cost= 0.00896, Training accuracy= 0.999, Validation accuracy = 0.922\n",
      "epoch 74/99, cost= 0.01194, Training accuracy= 0.999, Validation accuracy = 0.918\n",
      "epoch 75/99, cost= 0.00958, Training accuracy= 1.000, Validation accuracy = 0.918\n",
      "epoch 76/99, cost= 0.01463, Training accuracy= 0.998, Validation accuracy = 0.921\n",
      "epoch 77/99, cost= 0.00832, Training accuracy= 1.000, Validation accuracy = 0.920\n",
      "epoch 78/99, cost= 0.00744, Training accuracy= 0.999, Validation accuracy = 0.923\n",
      "epoch 79/99, cost= 0.01085, Training accuracy= 0.999, Validation accuracy = 0.909\n",
      "epoch 80/99, cost= 0.01863, Training accuracy= 0.998, Validation accuracy = 0.922\n",
      "epoch 81/99, cost= 0.00770, Training accuracy= 0.999, Validation accuracy = 0.928\n",
      "epoch 82/99, cost= 0.00680, Training accuracy= 1.000, Validation accuracy = 0.929\n",
      "epoch 83/99, cost= 0.01279, Training accuracy= 0.998, Validation accuracy = 0.917\n",
      "epoch 84/99, cost= 0.00773, Training accuracy= 0.999, Validation accuracy = 0.924\n",
      "epoch 85/99, cost= 0.02106, Training accuracy= 0.998, Validation accuracy = 0.925\n",
      "epoch 86/99, cost= 0.00949, Training accuracy= 0.998, Validation accuracy = 0.925\n",
      "epoch 87/99, cost= 0.01066, Training accuracy= 0.999, Validation accuracy = 0.929\n",
      "epoch 88/99, cost= 0.00620, Training accuracy= 1.000, Validation accuracy = 0.925\n",
      "epoch 89/99, cost= 0.00811, Training accuracy= 0.999, Validation accuracy = 0.924\n",
      "epoch 90/99, cost= 0.00853, Training accuracy= 0.999, Validation accuracy = 0.922\n",
      "epoch 91/99, cost= 0.00564, Training accuracy= 1.000, Validation accuracy = 0.926\n",
      "epoch 92/99, cost= 0.00669, Training accuracy= 0.999, Validation accuracy = 0.923\n",
      "epoch 93/99, cost= 0.00715, Training accuracy= 0.999, Validation accuracy = 0.924\n",
      "epoch 94/99, cost= 0.00759, Training accuracy= 0.999, Validation accuracy = 0.936\n",
      "epoch 95/99, cost= 0.00996, Training accuracy= 0.999, Validation accuracy = 0.920\n",
      "epoch 96/99, cost= 0.00466, Training accuracy= 1.000, Validation accuracy = 0.920\n",
      "epoch 97/99, cost= 0.00532, Training accuracy= 1.000, Validation accuracy = 0.926\n",
      "epoch 98/99, cost= 0.00701, Training accuracy= 1.000, Validation accuracy = 0.924\n",
      "epoch 99/99, cost= 0.00496, Training accuracy= 1.000, Validation accuracy = 0.931\n",
      "\n",
      "Training... End\n"
     ]
    }
   ],
   "source": [
    "### Train your model here.\n",
    "### Calculate and report the accuracy on the training and validation set.\n",
    "### Once a final model architecture is selected, \n",
    "### the accuracy on the test set should be calculated and reported as well.\n",
    "### Feel free to use as many code cells as needed.\n",
    "\n",
    "\n",
    "\n",
    "\n",
    "EPOCHS = 99\n",
    "BATCH_SIZE = 2048\n",
    "\n",
    "saver = tf.train.Saver()\n",
    "save_name = 'model_01'\n",
    "\n",
    "load_flag = 0\n",
    "save_flag = 0\n",
    "\n",
    "config = tf.ConfigProto()\n",
    "config.gpu_options.allow_growth = True\n",
    "with tf.Session(config=config) as sess:\n",
    "    sess.run(tf.global_variables_initializer())\n",
    "    \n",
    "    if load_flag == 1:\n",
    "        save_path = './save/'+save_name\n",
    "        saver.restore(sess, save_path)\n",
    "        print('Successfully loaded:', save_path)\n",
    "    \n",
    "    print(\"Training...\")\n",
    "    print()\n",
    "    for i in range(EPOCHS):\n",
    "        order = np.arange(n_train)\n",
    "        np.random.shuffle(order)\n",
    "        for offset in range(0, n_train, BATCH_SIZE):\n",
    "            end = offset + BATCH_SIZE\n",
    "            batch_x, batch_y = X_train[order[offset:end],:,:,:], y_train[order[offset:end]]\n",
    "            sess.run(train_step, feed_dict={x: batch_x, y: batch_y, keep_prob: 0.5})\n",
    "            \n",
    "#             print(batch_y)\n",
    "        batch_idx = np.random.choice(n_train,BATCH_SIZE, replace = False)\n",
    "        batch_x = X_train[batch_idx,:,:,:]\n",
    "        batch_y = y_train[batch_idx]\n",
    "    \n",
    "        train_accuracy = accuracy_operation.eval(feed_dict={x:batch_x, y: batch_y, keep_prob: 1.0})\n",
    "        cost_value = cross_entropy.eval(feed_dict={x: batch_x, y: batch_y, keep_prob: 1.0})\n",
    "        validation_accuracy = evaluate(X_valid, y_valid)\n",
    "#         validation_accuracy = 0.0\n",
    "        print(\"epoch {:2d}/{:2d}, cost= {:.5f}, Training accuracy= {:.3f}, Validation accuracy = {:.3f}\"\\\n",
    "              .format(i+1, EPOCHS, cost_value, train_accuracy, validation_accuracy))\n",
    "        \n",
    "#         y_check = y_conv.eval(feed_dict={x: batch_x[:10,:,:,:], y: batch_y[:10], keep_prob: 1.0})\n",
    "#         print(y_check)\n",
    "        \n",
    "        if save_flag == 1:\n",
    "            saver.save(sess, './save/'+save_name)\n",
    "    \n",
    "    print()\n",
    "    print(\"Training... End\")\n",
    "        "
   ]
  },
  {
   "cell_type": "code",
   "execution_count": 9,
   "metadata": {
    "collapsed": false
   },
   "outputs": [
    {
     "name": "stdout",
     "output_type": "stream",
     "text": [
      "INFO:tensorflow:Restoring parameters from ./save/model_01\n",
      "Successfully loaded: ./save/model_01\n",
      "Validation accuracy = 0.938\n",
      "Test accuracy = 0.931\n"
     ]
    }
   ],
   "source": [
    "BATCH_SIZE = 2048\n",
    "\n",
    "config = tf.ConfigProto()\n",
    "config.gpu_options.allow_growth = True\n",
    "with tf.Session(config=config) as sess:\n",
    "    sess.run(tf.global_variables_initializer())\n",
    "    saver = tf.train.Saver()\n",
    "    save_name = 'model_01'\n",
    "    save_path = './save/'+save_name\n",
    "    saver.restore(sess, save_path)\n",
    "    print('Successfully loaded:', save_path)\n",
    "    validation_accuracy = evaluate(X_valid, y_valid)\n",
    "    print(\"Validation accuracy = {:.3f}\".format(validation_accuracy))\n",
    "    test_accuracy = evaluate(X_test, y_test)\n",
    "    print(\"Test accuracy = {:.3f}\".format(test_accuracy))"
   ]
  },
  {
   "cell_type": "markdown",
   "metadata": {},
   "source": [
    "---\n",
    "\n",
    "## Step 3: Test a Model on New Images\n",
    "\n",
    "To give yourself more insight into how your model is working, download at least five pictures of German traffic signs from the web and use your model to predict the traffic sign type.\n",
    "\n",
    "You may find `signnames.csv` useful as it contains mappings from the class id (integer) to the actual sign name."
   ]
  },
  {
   "cell_type": "markdown",
   "metadata": {},
   "source": [
    "### Load and Output the Images"
   ]
  },
  {
   "cell_type": "code",
   "execution_count": 11,
   "metadata": {
    "collapsed": false
   },
   "outputs": [
    {
     "data": {
      "image/png": "[encoded data removed]",
      "text/plain": [
       "<matplotlib.figure.Figure at 0x7fcd4685ae10>"
      ]
     },
     "metadata": {},
     "output_type": "display_data"
    },
    {
     "data": {
      "image/png": "[encoded data removed]",
      "text/plain": [
       "<matplotlib.figure.Figure at 0x7fcd46962d30>"
      ]
     },
     "metadata": {},
     "output_type": "display_data"
    },
    {
     "data": {
      "image/png": "[encoded data removed]",
      "text/plain": [
       "<matplotlib.figure.Figure at 0x7fcd463072b0>"
      ]
     },
     "metadata": {},
     "output_type": "display_data"
    },
    {
     "data": {
      "image/png": "[encoded data removed]",
      "text/plain": [
       "<matplotlib.figure.Figure at 0x7fcd2828a518>"
      ]
     },
     "metadata": {},
     "output_type": "display_data"
    },
    {
     "data": {
      "image/png": "[encoded data removed]",
      "text/plain": [
       "<matplotlib.figure.Figure at 0x7fcd2825da58>"
      ]
     },
     "metadata": {},
     "output_type": "display_data"
    }
   ],
   "source": [
    "### Load the images and plot them here.\n",
    "### Feel free to use as many code cells as needed.\n",
    "from PIL import Image\n",
    "import os\n",
    "\n",
    "image_name = []\n",
    "image_num = 0\n",
    "images = np.ones(shape=(5,32,32,3))\n",
    "for image_file in os.listdir(\"./test_image\"): \n",
    "    if image_file.endswith(\".png\"):\n",
    "        image_name.append(image_file)        \n",
    "        img = Image.open('./test_image/' + image_file).convert('RGB') # load image into RGB\n",
    "        img = img.convert('RGB')\n",
    "        img = img.resize((32,32), Image.ANTIALIAS) # resizes image in-place\n",
    "        \n",
    "        images[image_num,:,:,:] = np.array(img, dtype=np.float32)/1.0\n",
    "        \n",
    "        plt.figure(image_num)\n",
    "        plt.imshow(img)\n",
    "        plt.title('Label = '+ image_file)\n",
    "        \n",
    "        image_num += 1\n",
    "\n",
    "\n",
    "True_label = np.array([13, 14, 25, 1, 35])\n",
    "    "
   ]
  },
  {
   "cell_type": "markdown",
   "metadata": {},
   "source": [
    "### Predict the Sign Type for Each Image"
   ]
  },
  {
   "cell_type": "code",
   "execution_count": 12,
   "metadata": {
    "collapsed": false
   },
   "outputs": [
    {
     "name": "stdout",
     "output_type": "stream",
     "text": [
      "INFO:tensorflow:Restoring parameters from ./save/model_01\n",
      "Successfully loaded: ./save/model_01\n",
      "Predicted label with New images [13 14 25  1 35]\n"
     ]
    }
   ],
   "source": [
    "### Run the predictions here and use the model to output the prediction for each image.\n",
    "### Make sure to pre-process the images with the same pre-processing pipeline used earlier.\n",
    "### Feel free to use as many code cells as needed.\n",
    "images_normalize = images/128.0 - 1.0\n",
    "images_gry = np.sum(images_normalize/3, axis=3, keepdims=True)\n",
    "\n",
    "\n",
    "\n",
    "config = tf.ConfigProto()\n",
    "config.gpu_options.allow_growth = True\n",
    "with tf.Session(config=config) as sess:\n",
    "    sess.run(tf.global_variables_initializer())\n",
    "    saver = tf.train.Saver()\n",
    "    save_name = 'model_01'\n",
    "    save_path = './save/'+save_name\n",
    "    saver.restore(sess, save_path)\n",
    "    print('Successfully loaded:', save_path)\n",
    "    \n",
    "    New_pred = y_conv.eval(feed_dict={x:images_gry , keep_prob: 1.0})\n",
    "    \n",
    "    Predict_label = np.argmax(New_pred, axis=1)\n",
    "    print('Predicted label with New images '+str(Predict_label))\n",
    "    "
   ]
  },
  {
   "cell_type": "markdown",
   "metadata": {},
   "source": [
    "### Analyze Performance"
   ]
  },
  {
   "cell_type": "code",
   "execution_count": 13,
   "metadata": {
    "collapsed": false
   },
   "outputs": [
    {
     "name": "stdout",
     "output_type": "stream",
     "text": [
      "INFO:tensorflow:Restoring parameters from ./save/model_01\n",
      "Successfully loaded: ./save/model_01\n",
      "Accuracy with New images : 1.0\n"
     ]
    }
   ],
   "source": [
    "### Calculate the accuracy for these 5 new images. \n",
    "### For example, if the model predicted 1 out of 5 signs correctly, it's 20% accurate on these new images.\n",
    "\n",
    "config = tf.ConfigProto()\n",
    "config.gpu_options.allow_growth = True\n",
    "with tf.Session(config=config) as sess:\n",
    "    sess.run(tf.global_variables_initializer())\n",
    "    saver = tf.train.Saver()\n",
    "    save_name = 'model_01'\n",
    "    save_path = './save/'+save_name\n",
    "    saver.restore(sess, save_path)\n",
    "    print('Successfully loaded:', save_path)\n",
    "    \n",
    "    Accuracy_new_image = accuracy_operation.eval(feed_dict={x:images_gry, y:True_label, keep_prob: 1.0})\n",
    "    \n",
    "    print('Accuracy with New images : '+ str(Accuracy_new_image))"
   ]
  },
  {
   "cell_type": "markdown",
   "metadata": {},
   "source": [
    "### Output Top 5 Softmax Probabilities For Each Image Found on the Web"
   ]
  },
  {
   "cell_type": "markdown",
   "metadata": {},
   "source": [
    "For each of the new images, print out the model's softmax probabilities to show the **certainty** of the model's predictions (limit the output to the top 5 probabilities for each image). [`tf.nn.top_k`](https://www.tensorflow.org/versions/r0.12/api_docs/python/nn.html#top_k) could prove helpful here. \n",
    "\n",
    "The example below demonstrates how tf.nn.top_k can be used to find the top k predictions for each image.\n",
    "\n",
    "`tf.nn.top_k` will return the values and indices (class ids) of the top k predictions. So if k=3, for each sign, it'll return the 3 largest probabilities (out of a possible 43) and the correspoding class ids.\n",
    "\n",
    "Take this numpy array as an example. The values in the array represent predictions. The array contains softmax probabilities for five candidate images with six possible classes. `tf.nn.top_k` is used to choose the three classes with the highest probability:\n",
    "\n",
    "```\n",
    "# (5, 6) array\n",
    "a = np.array([[ 0.24879643,  0.07032244,  0.12641572,  0.34763842,  0.07893497,\n",
    "         0.12789202],\n",
    "       [ 0.28086119,  0.27569815,  0.08594638,  0.0178669 ,  0.18063401,\n",
    "         0.15899337],\n",
    "       [ 0.26076848,  0.23664738,  0.08020603,  0.07001922,  0.1134371 ,\n",
    "         0.23892179],\n",
    "       [ 0.11943333,  0.29198961,  0.02605103,  0.26234032,  0.1351348 ,\n",
    "         0.16505091],\n",
    "       [ 0.09561176,  0.34396535,  0.0643941 ,  0.16240774,  0.24206137,\n",
    "         0.09155967]])\n",
    "```\n",
    "\n",
    "Running it through `sess.run(tf.nn.top_k(tf.constant(a), k=3))` produces:\n",
    "\n",
    "```\n",
    "TopKV2(values=array([[ 0.34763842,  0.24879643,  0.12789202],\n",
    "       [ 0.28086119,  0.27569815,  0.18063401],\n",
    "       [ 0.26076848,  0.23892179,  0.23664738],\n",
    "       [ 0.29198961,  0.26234032,  0.16505091],\n",
    "       [ 0.34396535,  0.24206137,  0.16240774]]), indices=array([[3, 0, 5],\n",
    "       [0, 1, 4],\n",
    "       [0, 5, 1],\n",
    "       [1, 3, 5],\n",
    "       [1, 4, 3]], dtype=int32))\n",
    "```\n",
    "\n",
    "Looking just at the first row we get `[ 0.34763842,  0.24879643,  0.12789202]`, you can confirm these are the 3 largest probabilities in `a`. You'll also notice `[3, 0, 5]` are the corresponding indices."
   ]
  },
  {
   "cell_type": "code",
   "execution_count": 14,
   "metadata": {
    "collapsed": false
   },
   "outputs": [
    {
     "name": "stdout",
     "output_type": "stream",
     "text": [
      "INFO:tensorflow:Restoring parameters from ./save/model_01\n",
      "Successfully loaded: ./save/model_01\n",
      "[13 35 38 15 34] [  1.00000000e+00   5.44513566e-12   3.65652821e-12   1.91422263e-14\n",
      "   3.12196333e-15]\n",
      "[14 17 33 34 38] [  9.99990702e-01   9.17897978e-06   6.50840590e-08   1.42849670e-08\n",
      "   7.66169617e-09]\n",
      "[25 30 22 29 24] [  1.00000000e+00   1.96049044e-08   6.25282714e-09   7.33620276e-10\n",
      "   7.00130145e-12]\n",
      "[1 2 0 5 4] [  9.98558223e-01   8.31805286e-04   5.95486956e-04   9.84224607e-06\n",
      "   4.51378992e-06]\n",
      "[35 34 16  9 15] [  9.99999881e-01   2.55315982e-08   1.89737985e-08   1.87919191e-08\n",
      "   5.77372727e-09]\n"
     ]
    }
   ],
   "source": [
    "### Print out the top five softmax probabilities for the predictions on the German traffic sign images found on the web. \n",
    "### Feel free to use as many code cells as needed.\n",
    "\n",
    "config = tf.ConfigProto()\n",
    "config.gpu_options.allow_growth = True\n",
    "with tf.Session(config=config) as sess:\n",
    "    sess.run(tf.global_variables_initializer())\n",
    "    saver = tf.train.Saver()\n",
    "    save_name = 'model_01'\n",
    "    save_path = './save/'+save_name\n",
    "    saver.restore(sess, save_path)\n",
    "    print('Successfully loaded:', save_path)\n",
    "    \n",
    "    Prediction_top5 = sess.run(tf.nn.top_k(tf.nn.softmax(y_conv), k=5), feed_dict={x: images_gry, keep_prob: 1.0})\n",
    "    \n",
    "for i in range(5):\n",
    "    print(Prediction_top5.indices[i],Prediction_top5.values[i])\n",
    "    "
   ]
  },
  {
   "cell_type": "markdown",
   "metadata": {},
   "source": [
    "### Project Writeup\n",
    "\n",
    "Once you have completed the code implementation, document your results in a project writeup using this [template](https://github.com/udacity/CarND-Traffic-Sign-Classifier-Project/blob/master/writeup_template.md) as a guide. The writeup can be in a markdown or pdf file. "
   ]
  },
  {
   "cell_type": "markdown",
   "metadata": {},
   "source": [
    "> **Note**: Once you have completed all of the code implementations and successfully answered each question above, you may finalize your work by exporting the iPython Notebook as an HTML document. You can do this by using the menu above and navigating to  \\n\",\n",
    "    \"**File -> Download as -> HTML (.html)**. Include the finished document along with this notebook as your submission."
   ]
  },
  {
   "cell_type": "markdown",
   "metadata": {},
   "source": [
    "---\n",
    "\n",
    "## Step 4 (Optional): Visualize the Neural Network's State with Test Images\n",
    "\n",
    " This Section is not required to complete but acts as an additional excersise for understaning the output of a neural network's weights. While neural networks can be a great learning device they are often referred to as a black box. We can understand what the weights of a neural network look like better by plotting their feature maps. After successfully training your neural network you can see what it's feature maps look like by plotting the output of the network's weight layers in response to a test stimuli image. From these plotted feature maps, it's possible to see what characteristics of an image the network finds interesting. For a sign, maybe the inner network feature maps react with high activation to the sign's boundary outline or to the contrast in the sign's painted symbol.\n",
    "\n",
    " Provided for you below is the function code that allows you to get the visualization output of any tensorflow weight layer you want. The inputs to the function should be a stimuli image, one used during training or a new one you provided, and then the tensorflow variable name that represents the layer's state during the training process, for instance if you wanted to see what the [LeNet lab's](https://classroom.udacity.com/nanodegrees/nd013/parts/fbf77062-5703-404e-b60c-95b78b2f3f9e/modules/6df7ae49-c61c-4bb2-a23e-6527e69209ec/lessons/601ae704-1035-4287-8b11-e2c2716217ad/concepts/d4aca031-508f-4e0b-b493-e7b706120f81) feature maps looked like for it's second convolutional layer you could enter conv2 as the tf_activation variable.\n",
    "\n",
    "For an example of what feature map outputs look like, check out NVIDIA's results in their paper [End-to-End Deep Learning for Self-Driving Cars](https://devblogs.nvidia.com/parallelforall/deep-learning-self-driving-cars/) in the section Visualization of internal CNN State. NVIDIA was able to show that their network's inner weights had high activations to road boundary lines by comparing feature maps from an image with a clear path to one without. Try experimenting with a similar test to show that your trained network's weights are looking for interesting features, whether it's looking at differences in feature maps from images with or without a sign, or even what feature maps look like in a trained network vs a completely untrained one on the same sign image.\n",
    "\n",
    "<figure>\n",
    " <img src=\"visualize_cnn.png\" width=\"380\" alt=\"Combined Image\" />\n",
    " <figcaption>\n",
    " <p></p> \n",
    " <p style=\"text-align: center;\"> Your output should look something like this (above)</p> \n",
    " </figcaption>\n",
    "</figure>\n",
    " <p></p> \n"
   ]
  },
  {
   "cell_type": "code",
   "execution_count": 12,
   "metadata": {
    "collapsed": true
   },
   "outputs": [],
   "source": [
    "### Visualize your network's feature maps here.\n",
    "### Feel free to use as many code cells as needed.\n",
    "\n",
    "# image_input: the test image being fed into the network to produce the feature maps\n",
    "# tf_activation: should be a tf variable name used during your training procedure that represents the calculated state of a specific weight layer\n",
    "# activation_min/max: can be used to view the activation contrast in more detail, by default matplot sets min and max to the actual min and max values of the output\n",
    "# plt_num: used to plot out multiple different weight feature map sets on the same block, just extend the plt number for each new feature map entry\n",
    "\n",
    "def outputFeatureMap(image_input, tf_activation, activation_min=-1, activation_max=-1 ,plt_num=1):\n",
    "    # Here make sure to preprocess your image_input in a way your network expects\n",
    "    # with size, normalization, ect if needed\n",
    "    # image_input =\n",
    "    # Note: x should be the same name as your network's tensorflow data placeholder variable\n",
    "    # If you get an error tf_activation is not defined it may be having trouble accessing the variable from inside a function\n",
    "    activation = tf_activation.eval(session=sess,feed_dict={x : image_input})\n",
    "    featuremaps = activation.shape[3]\n",
    "    plt.figure(plt_num, figsize=(15,15))\n",
    "    for featuremap in range(featuremaps):\n",
    "        plt.subplot(6,8, featuremap+1) # sets the number of feature maps to show on each row and column\n",
    "        plt.title('FeatureMap ' + str(featuremap)) # displays the feature map number\n",
    "        if activation_min != -1 & activation_max != -1:\n",
    "            plt.imshow(activation[0,:,:, featuremap], interpolation=\"nearest\", vmin =activation_min, vmax=activation_max, cmap=\"gray\")\n",
    "        elif activation_max != -1:\n",
    "            plt.imshow(activation[0,:,:, featuremap], interpolation=\"nearest\", vmax=activation_max, cmap=\"gray\")\n",
    "        elif activation_min !=-1:\n",
    "            plt.imshow(activation[0,:,:, featuremap], interpolation=\"nearest\", vmin=activation_min, cmap=\"gray\")\n",
    "        else:\n",
    "            plt.imshow(activation[0,:,:, featuremap], interpolation=\"nearest\", cmap=\"gray\")"
   ]
  }
 ],
 "metadata": {
  "anaconda-cloud": {},
  "kernelspec": {
   "display_name": "Python [default]",
   "language": "python",
   "name": "python3"
  },
  "language_info": {
   "codemirror_mode": {
    "name": "ipython",
    "version": 3
   },
   "file_extension": ".py",
   "mimetype": "text/x-python",
   "name": "python",
   "nbconvert_exporter": "python",
   "pygments_lexer": "ipython3",
   "version": "3.5.2"
  }
 },
 "nbformat": 4,
 "nbformat_minor": 1
}
